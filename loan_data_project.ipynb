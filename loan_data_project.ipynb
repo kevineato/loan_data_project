{
 "cells": [
  {
   "cell_type": "code",
   "execution_count": 3,
   "metadata": {},
   "outputs": [],
   "source": [
    "from matplotlib import pyplot as plt\n",
    "import os\n",
    "import pandas as pd\n",
    "import requests\n",
    "import sys\n",
    "import zipfile\n",
    "\n",
    "%matplotlib inline\n",
    "\n",
    "def check_download_extract(url):\n",
    "    zip_name = url[url.rfind('/') + 1:]\n",
    "    csv_name = zip_name[:zip_name.rfind('.zip')]\n",
    "    if os.path.isfile(csv_name):\n",
    "        print(\"{} found\".format(csv_name))\n",
    "    else:\n",
    "        print(\"Downloading {}...\".format(zip_name))\n",
    "        r = requests.get(url)\n",
    "\n",
    "        if os.path.isfile(zip_name):\n",
    "            os.remove(zip_name)\n",
    "\n",
    "        with open(zip_name, 'wb') as f:\n",
    "            f.write(r.content)\n",
    "\n",
    "        print(\"Extracting {} from {}...\".format(csv_name, zip_name))\n",
    "        with zipfile.ZipFile(zip_name) as z:\n",
    "            z.extractall()\n",
    "\n",
    "        if os.path.isfile(csv_name):\n",
    "            os.remove(zip_name)\n",
    "            print(\"{} successfully extracted\\n\".format(csv_name))\n",
    "        else:\n",
    "            print(\"Error getting csv from {}\".format(url))\n",
    "            sys.exit(1)\n",
    "\n",
    "    return csv_name"
   ]
  },
  {
   "cell_type": "code",
   "execution_count": 2,
   "metadata": {},
   "outputs": [
    {
     "name": "stdout",
     "output_type": "stream",
     "text": [
      "LoanStats3a.csv found\n",
      "RejectStatsA.csv found\n"
     ]
    }
   ],
   "source": [
    "loan_url = 'https://resources.lendingclub.com/LoanStats3a.csv.zip'\n",
    "declined_url = 'https://resources.lendingclub.com/RejectStatsA.csv.zip'\n",
    "\n",
    "# Download csv files\n",
    "loan_csv = check_download_extract(loan_url)\n",
    "declined_csv = check_download_extract(declined_url)\n",
    "\n",
    "# Load loan data, skip first and last 2 rows\n",
    "loan_df = pd.read_csv(loan_csv, skiprows=1, skipfooter=2, engine='python')\n",
    "\n",
    "# Drop all columns that contain all null values or a single value\n",
    "\n",
    "for col in loan_df:\n",
    "    if loan_df[col].isnull().all() or len(loan_df[col].value_counts()) == 1:\n",
    "        loan_df = loan_df.drop(col, axis=1)\n",
    "\n",
    "# Load declined data, skip first row\n",
    "declined_df = pd.read_csv(declined_csv, skiprows=1)"
   ]
  }
 ],
 "metadata": {
  "kernelspec": {
   "display_name": "Python 3",
   "language": "python",
   "name": "python3"
  },
  "language_info": {
   "codemirror_mode": {
    "name": "ipython",
    "version": 3
   },
   "file_extension": ".py",
   "mimetype": "text/x-python",
   "name": "python",
   "nbconvert_exporter": "python",
   "pygments_lexer": "ipython3",
   "version": "3.7.1"
  }
 },
 "nbformat": 4,
 "nbformat_minor": 2
}
